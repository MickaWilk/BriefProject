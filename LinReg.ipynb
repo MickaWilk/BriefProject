{
 "cells": [
  {
   "attachments": {},
   "cell_type": "markdown",
   "metadata": {},
   "source": [
    "# Brief projet\n",
    "- Etape 1 : Choisir un secteur qui vous interesse.\n",
    "- Etape 2 : Trouver une problematique - identifier une target.\n",
    "- Etape 3 : Sélectionner une ou des bases de données (SQL, CSV, API, scraping, etc...).\n",
    "- Etape 4 : Réaliser l’analyse de donnée.\n",
    "- Etape 5 : Réaliser un model de machine de learning (regression lineaire)\n",
    "- Rendu : Présentation Oral d’un Notebook propre, légé et bien structuré (legend et titre sur les graphiques, abscisse et ordonnée. Faire des parties dans le notebook.).\n",
    "\n",
    "- Optionnel : Architecture du projet en POO, RandomizeSearch, GridSearch, Learning curve.\n",
    "\n",
    "**Outils à utiliser :**\n",
    "- Analyse : Notebooke, Numpy, Pandas, Matplotlib ou Seaborn. Sklearn ou Stat model.\n",
    "- Sklearn : RandomizeSearch, GridSearch, Cross validation, Train/Test Split, model de Regression Lineaire Pipeline.\n",
    "- Gestion de Projet Agile: Github, Trello (ou autre outil de gestion de projet : Jira, Clickup, Teams, etc...)."
   ]
  },
  {
   "cell_type": "code",
   "execution_count": 715,
   "metadata": {},
   "outputs": [],
   "source": [
    "import myfunctions\n",
    "import seaborn as sns\n",
    "import pandas as pd\n",
    "import numpy as np\n",
    "from sklearn.linear_model import LinearRegression, Ridge, Lasso\n",
    "from sklearn.compose import ColumnTransformer\n",
    "from sklearn.pipeline import Pipeline\n",
    "from sklearn.impute import SimpleImputer\n",
    "from sklearn.preprocessing import StandardScaler, OneHotEncoder, MinMaxScaler\n",
    "from sklearn.model_selection import cross_val_score\n",
    "from sklearn.model_selection import train_test_split"
   ]
  },
  {
   "attachments": {},
   "cell_type": "markdown",
   "metadata": {},
   "source": [
    "# Get Dataframe, features and target"
   ]
  },
  {
   "cell_type": "code",
   "execution_count": null,
   "metadata": {},
   "outputs": [],
   "source": [
    "df = pd.read_csv('games_data.csv', encoding = 'unicode_escape', index_col='id').drop_duplicates()\n",
    "df.head(5)"
   ]
  },
  {
   "cell_type": "code",
   "execution_count": null,
   "metadata": {},
   "outputs": [],
   "source": [
    "df.dtypes"
   ]
  },
  {
   "cell_type": "code",
   "execution_count": null,
   "metadata": {},
   "outputs": [],
   "source": [
    "df.count()"
   ]
  },
  {
   "cell_type": "code",
   "execution_count": null,
   "metadata": {},
   "outputs": [],
   "source": [
    "df = df[df['price'] != df['dc_price']]"
   ]
  },
  {
   "cell_type": "code",
   "execution_count": null,
   "metadata": {},
   "outputs": [],
   "source": [
    "df.isnull().sum() / df.count().max() * 100"
   ]
  },
  {
   "cell_type": "code",
   "execution_count": null,
   "metadata": {},
   "outputs": [],
   "source": [
    "# Transformer les valeurs numériques en float\n",
    "\n",
    "df = df[['price', 'dc_price', 'reviews', 'percent_positive']]\n",
    "df = df.replace('%', '', regex=True).replace('Free to play', np.nan, regex=True).replace(',', '.', regex=True)\n",
    "df = df.apply(pd.to_numeric, errors='coerce')\n",
    "df[['price', 'dc_price']] = (df[['price', 'dc_price']] / 10).round(2)\n",
    "df.dropna(inplace=True)\n",
    "\n",
    "df"
   ]
  },
  {
   "cell_type": "code",
   "execution_count": null,
   "metadata": {},
   "outputs": [],
   "source": [
    "df.isnull().sum() / df.count().max() * 100\n"
   ]
  },
  {
   "cell_type": "code",
   "execution_count": null,
   "metadata": {},
   "outputs": [],
   "source": [
    "\n",
    "sns.heatmap(df.corr())"
   ]
  },
  {
   "attachments": {},
   "cell_type": "markdown",
   "metadata": {},
   "source": [
    "---"
   ]
  },
  {
   "cell_type": "code",
   "execution_count": null,
   "metadata": {},
   "outputs": [],
   "source": [
    "df"
   ]
  },
  {
   "cell_type": "code",
   "execution_count": null,
   "metadata": {},
   "outputs": [],
   "source": [
    "# Iteration 1: r2 Negatif\n",
    "# X = df[['price']]\n",
    "X = df.drop(columns=['dc_price'])\n",
    "y = df['dc_price']\n",
    "\n",
    "# Select the numeric columns\n",
    "numeric_features = X.select_dtypes(include=['float', 'int']).columns\n",
    "\n",
    "# Select the categorical columns\n",
    "categorical_features = X.select_dtypes(include=['object', 'category']).columns"
   ]
  },
  {
   "cell_type": "code",
   "execution_count": 713,
   "metadata": {},
   "outputs": [
    {
     "data": {
      "text/plain": [
       "price               float64\n",
       "reviews             float64\n",
       "percent_positive    float64\n",
       "dtype: object"
      ]
     },
     "execution_count": 713,
     "metadata": {},
     "output_type": "execute_result"
    }
   ],
   "source": [
    "X.dtypes"
   ]
  },
  {
   "attachments": {},
   "cell_type": "markdown",
   "metadata": {},
   "source": [
    "### Define the list of regression models, scoring, strategies"
   ]
  },
  {
   "cell_type": "code",
   "execution_count": null,
   "metadata": {},
   "outputs": [],
   "source": [
    "models = [LinearRegression(), Ridge(), Lasso()]\n",
    "\n",
    "scorings = ['r2']\n",
    "\n",
    "strategies = ['mean', 'median', 'most_frequent', 'constant']"
   ]
  },
  {
   "attachments": {},
   "cell_type": "markdown",
   "metadata": {},
   "source": [
    "### Create preprocesses for each strategies"
   ]
  },
  {
   "cell_type": "code",
   "execution_count": null,
   "metadata": {},
   "outputs": [],
   "source": [
    "preprocessings = {}\n",
    "for strategie in strategies:\n",
    "    preprocessing = ColumnTransformer(\n",
    "        [\n",
    "        ('imputer', SimpleImputer(strategy=strategie), numeric_features),\n",
    "        ('scaler', StandardScaler(), numeric_features),\n",
    "        ('onehot', OneHotEncoder(), categorical_features)\n",
    "        ]\n",
    "    )\n",
    "    preprocessings[strategie] = preprocessing\n",
    "    print(f'Strategie: {strategie}')\n"
   ]
  },
  {
   "attachments": {},
   "cell_type": "markdown",
   "metadata": {},
   "source": [
    "### Loop and score for each strategie, scoring method, model used"
   ]
  },
  {
   "cell_type": "code",
   "execution_count": null,
   "metadata": {},
   "outputs": [],
   "source": [
    "\n",
    "df_tests = get_pipelines_dataframe(X,y,models,scorings,preprocessings, [5,10])\n",
    "df_tests"
   ]
  },
  {
   "attachments": {},
   "cell_type": "markdown",
   "metadata": {},
   "source": [
    "### Sorting results by mean of scores"
   ]
  },
  {
   "cell_type": "code",
   "execution_count": null,
   "metadata": {},
   "outputs": [],
   "source": [
    "df_tests.nlargest(20, 'mean')"
   ]
  },
  {
   "cell_type": "code",
   "execution_count": null,
   "metadata": {},
   "outputs": [],
   "source": [
    "best_pipeline = df_tests.nlargest(1, 'mean')['pipeline'].tolist()[0]\n",
    "best_pipeline"
   ]
  },
  {
   "attachments": {},
   "cell_type": "markdown",
   "metadata": {},
   "source": [
    "# Pickle the best Pipeline"
   ]
  },
  {
   "cell_type": "code",
   "execution_count": null,
   "metadata": {},
   "outputs": [],
   "source": [
    "import pickle\n",
    "pickle.dump(best_pipeline, open('pipeline.pkl', 'wb'))"
   ]
  },
  {
   "cell_type": "code",
   "execution_count": null,
   "metadata": {},
   "outputs": [],
   "source": [
    "pkl = pickle.load(open('pipeline.pkl', 'rb'))\n",
    "pkl.predict('k')"
   ]
  }
 ],
 "metadata": {
  "kernelspec": {
   "display_name": "Python 3",
   "language": "python",
   "name": "python3"
  },
  "language_info": {
   "codemirror_mode": {
    "name": "ipython",
    "version": 3
   },
   "file_extension": ".py",
   "mimetype": "text/x-python",
   "name": "python",
   "nbconvert_exporter": "python",
   "pygments_lexer": "ipython3",
   "version": "3.10.9"
  },
  "orig_nbformat": 4,
  "vscode": {
   "interpreter": {
    "hash": "b21d6ac6766a9a9869792941c69ec68494af817f18c99840bf58a5b81e69fa2a"
   }
  }
 },
 "nbformat": 4,
 "nbformat_minor": 2
}
