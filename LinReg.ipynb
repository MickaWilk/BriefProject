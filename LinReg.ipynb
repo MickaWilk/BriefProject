{
 "cells": [
  {
   "cell_type": "code",
   "execution_count": 290,
   "metadata": {
    "slideshow": {
     "slide_type": "skip"
    }
   },
   "outputs": [],
   "source": [
    "from datascience import create_pipeline\n",
    "import Linreg\n",
    "import seaborn as sns\n",
    "import pandas as pd\n",
    "import numpy as np\n",
    "import matplotlib.pyplot as plt\n",
    "from sklearn.linear_model import LinearRegression, Ridge, Lasso\n",
    "from sklearn.compose import ColumnTransformer, make_column_selector\n",
    "from sklearn.pipeline import Pipeline\n",
    "from sklearn import set_config\n",
    "from sklearn.impute import SimpleImputer\n",
    "from sklearn.preprocessing import StandardScaler, OneHotEncoder, MinMaxScaler\n",
    "from sklearn.model_selection import cross_val_score\n",
    "from sklearn.model_selection import train_test_split"
   ]
  },
  {
   "attachments": {},
   "cell_type": "markdown",
   "metadata": {
    "slideshow": {
     "slide_type": "slide"
    }
   },
   "source": [
    "# Get Dataframe"
   ]
  },
  {
   "cell_type": "code",
   "execution_count": 291,
   "metadata": {
    "slideshow": {
     "slide_type": "subslide"
    }
   },
   "outputs": [
    {
     "data": {
      "text/html": [
       "<div>\n",
       "<style scoped>\n",
       "    .dataframe tbody tr th:only-of-type {\n",
       "        vertical-align: middle;\n",
       "    }\n",
       "\n",
       "    .dataframe tbody tr th {\n",
       "        vertical-align: top;\n",
       "    }\n",
       "\n",
       "    .dataframe thead th {\n",
       "        text-align: right;\n",
       "    }\n",
       "</style>\n",
       "<table border=\"1\" class=\"dataframe\">\n",
       "  <thead>\n",
       "    <tr style=\"text-align: right;\">\n",
       "      <th></th>\n",
       "      <th>title</th>\n",
       "      <th>release_date</th>\n",
       "      <th>developer</th>\n",
       "      <th>publisher</th>\n",
       "      <th>genres</th>\n",
       "      <th>multiplayer_or_singleplayer</th>\n",
       "      <th>price</th>\n",
       "      <th>dc_price</th>\n",
       "      <th>overall_review</th>\n",
       "      <th>detailed_review</th>\n",
       "      <th>reviews</th>\n",
       "      <th>percent_positive</th>\n",
       "      <th>win_support</th>\n",
       "      <th>mac_support</th>\n",
       "      <th>lin_support</th>\n",
       "    </tr>\n",
       "    <tr>\n",
       "      <th>id</th>\n",
       "      <th></th>\n",
       "      <th></th>\n",
       "      <th></th>\n",
       "      <th></th>\n",
       "      <th></th>\n",
       "      <th></th>\n",
       "      <th></th>\n",
       "      <th></th>\n",
       "      <th></th>\n",
       "      <th></th>\n",
       "      <th></th>\n",
       "      <th></th>\n",
       "      <th></th>\n",
       "      <th></th>\n",
       "      <th></th>\n",
       "    </tr>\n",
       "  </thead>\n",
       "  <tbody>\n",
       "    <tr>\n",
       "      <th>0</th>\n",
       "      <td>Counter-Strike: Global Offensive</td>\n",
       "      <td>2012-08-21</td>\n",
       "      <td>Valve;Hidden Path Entertainment</td>\n",
       "      <td>Valve</td>\n",
       "      <td>Action;Free to Play</td>\n",
       "      <td>Multi-player;Steam Achievements;Full controlle...</td>\n",
       "      <td>Free to play</td>\n",
       "      <td>Free to play</td>\n",
       "      <td>Positive</td>\n",
       "      <td>Very Positive</td>\n",
       "      <td>6774812</td>\n",
       "      <td>88%</td>\n",
       "      <td>1</td>\n",
       "      <td>1.0</td>\n",
       "      <td>1.0</td>\n",
       "    </tr>\n",
       "    <tr>\n",
       "      <th>1</th>\n",
       "      <td>Dota 2</td>\n",
       "      <td>2013-07-09</td>\n",
       "      <td>Valve</td>\n",
       "      <td>Valve</td>\n",
       "      <td>Action;Free to Play;Strategy</td>\n",
       "      <td>Multi-player;Co-op;Steam Trading Cards;Steam W...</td>\n",
       "      <td>Free to play</td>\n",
       "      <td>Free to play</td>\n",
       "      <td>Positive</td>\n",
       "      <td>Very Positive</td>\n",
       "      <td>1885261</td>\n",
       "      <td>82%</td>\n",
       "      <td>1</td>\n",
       "      <td>1.0</td>\n",
       "      <td>1.0</td>\n",
       "    </tr>\n",
       "    <tr>\n",
       "      <th>2</th>\n",
       "      <td>Warhammer 40,000: Darktide</td>\n",
       "      <td>NaN</td>\n",
       "      <td>NaN</td>\n",
       "      <td>NaN</td>\n",
       "      <td>NaN</td>\n",
       "      <td>NaN</td>\n",
       "      <td>2,199</td>\n",
       "      <td>2,199</td>\n",
       "      <td>Positive</td>\n",
       "      <td>Mostly Positive</td>\n",
       "      <td>26092</td>\n",
       "      <td>72%</td>\n",
       "      <td>1</td>\n",
       "      <td>0.0</td>\n",
       "      <td>0.0</td>\n",
       "    </tr>\n",
       "    <tr>\n",
       "      <th>3</th>\n",
       "      <td>Call of Duty®: Modern Warfare® II</td>\n",
       "      <td>NaN</td>\n",
       "      <td>NaN</td>\n",
       "      <td>NaN</td>\n",
       "      <td>NaN</td>\n",
       "      <td>NaN</td>\n",
       "      <td>4,999</td>\n",
       "      <td>4,999</td>\n",
       "      <td>Mixed</td>\n",
       "      <td>Mixed</td>\n",
       "      <td>215969</td>\n",
       "      <td>64%</td>\n",
       "      <td>1</td>\n",
       "      <td>0.0</td>\n",
       "      <td>0.0</td>\n",
       "    </tr>\n",
       "    <tr>\n",
       "      <th>4</th>\n",
       "      <td>Apex Legends</td>\n",
       "      <td>NaN</td>\n",
       "      <td>NaN</td>\n",
       "      <td>NaN</td>\n",
       "      <td>NaN</td>\n",
       "      <td>NaN</td>\n",
       "      <td>Free to play</td>\n",
       "      <td>Free to play</td>\n",
       "      <td>Positive</td>\n",
       "      <td>Very Positive</td>\n",
       "      <td>539297</td>\n",
       "      <td>85%</td>\n",
       "      <td>1</td>\n",
       "      <td>0.0</td>\n",
       "      <td>0.0</td>\n",
       "    </tr>\n",
       "    <tr>\n",
       "      <th>5</th>\n",
       "      <td>PUBG: BATTLEGROUNDS</td>\n",
       "      <td>NaN</td>\n",
       "      <td>NaN</td>\n",
       "      <td>NaN</td>\n",
       "      <td>NaN</td>\n",
       "      <td>NaN</td>\n",
       "      <td>Free to play</td>\n",
       "      <td>Free to play</td>\n",
       "      <td>Mixed</td>\n",
       "      <td>Mixed</td>\n",
       "      <td>2109992</td>\n",
       "      <td>56%</td>\n",
       "      <td>1</td>\n",
       "      <td>0.0</td>\n",
       "      <td>0.0</td>\n",
       "    </tr>\n",
       "    <tr>\n",
       "      <th>6</th>\n",
       "      <td>NARAKA: BLADEPOINT</td>\n",
       "      <td>NaN</td>\n",
       "      <td>NaN</td>\n",
       "      <td>NaN</td>\n",
       "      <td>NaN</td>\n",
       "      <td>NaN</td>\n",
       "      <td>1,199</td>\n",
       "      <td>1,199</td>\n",
       "      <td>Positive</td>\n",
       "      <td>Mostly Positive</td>\n",
       "      <td>130245</td>\n",
       "      <td>73%</td>\n",
       "      <td>1</td>\n",
       "      <td>0.0</td>\n",
       "      <td>0.0</td>\n",
       "    </tr>\n",
       "    <tr>\n",
       "      <th>7</th>\n",
       "      <td>Dead by Daylight</td>\n",
       "      <td>2016-06-14</td>\n",
       "      <td>Behaviour Digital Inc.</td>\n",
       "      <td>Behaviour Digital Inc.</td>\n",
       "      <td>Action</td>\n",
       "      <td>Multi-player;Online Multi-Player;Co-op;Online ...</td>\n",
       "      <td>749</td>\n",
       "      <td>749</td>\n",
       "      <td>Positive</td>\n",
       "      <td>Very Positive</td>\n",
       "      <td>453698</td>\n",
       "      <td>81%</td>\n",
       "      <td>1</td>\n",
       "      <td>0.0</td>\n",
       "      <td>0.0</td>\n",
       "    </tr>\n",
       "    <tr>\n",
       "      <th>8</th>\n",
       "      <td>Warframe</td>\n",
       "      <td>2013-03-25</td>\n",
       "      <td>Digital Extremes</td>\n",
       "      <td>Digital Extremes</td>\n",
       "      <td>Action;Free to Play</td>\n",
       "      <td>Single-player;Multi-player;Co-op;Steam Trading...</td>\n",
       "      <td>Free to play</td>\n",
       "      <td>Free to play</td>\n",
       "      <td>Positive</td>\n",
       "      <td>Very Positive</td>\n",
       "      <td>512887</td>\n",
       "      <td>87%</td>\n",
       "      <td>1</td>\n",
       "      <td>0.0</td>\n",
       "      <td>0.0</td>\n",
       "    </tr>\n",
       "    <tr>\n",
       "      <th>9</th>\n",
       "      <td>War Thunder</td>\n",
       "      <td>2013-08-15</td>\n",
       "      <td>Gaijin Entertainment</td>\n",
       "      <td>Gaijin Entertainment</td>\n",
       "      <td>Action;Free to Play;Massively Multiplayer;Simu...</td>\n",
       "      <td>Single-player;MMO;Co-op;Cross-Platform Multipl...</td>\n",
       "      <td>Free to play</td>\n",
       "      <td>Free to play</td>\n",
       "      <td>Positive</td>\n",
       "      <td>Mixed</td>\n",
       "      <td>28437</td>\n",
       "      <td>48%</td>\n",
       "      <td>1</td>\n",
       "      <td>1.0</td>\n",
       "      <td>1.0</td>\n",
       "    </tr>\n",
       "  </tbody>\n",
       "</table>\n",
       "</div>"
      ],
      "text/plain": [
       "                                title release_date  \\\n",
       "id                                                   \n",
       "0    Counter-Strike: Global Offensive   2012-08-21   \n",
       "1                              Dota 2   2013-07-09   \n",
       "2          Warhammer 40,000: Darktide          NaN   \n",
       "3   Call of Duty®: Modern Warfare® II          NaN   \n",
       "4                       Apex Legends          NaN   \n",
       "5                 PUBG: BATTLEGROUNDS          NaN   \n",
       "6                  NARAKA: BLADEPOINT          NaN   \n",
       "7                    Dead by Daylight   2016-06-14   \n",
       "8                            Warframe   2013-03-25   \n",
       "9                         War Thunder   2013-08-15   \n",
       "\n",
       "                          developer               publisher  \\\n",
       "id                                                            \n",
       "0   Valve;Hidden Path Entertainment                   Valve   \n",
       "1                             Valve                   Valve   \n",
       "2                               NaN                     NaN   \n",
       "3                               NaN                     NaN   \n",
       "4                               NaN                     NaN   \n",
       "5                               NaN                     NaN   \n",
       "6                               NaN                     NaN   \n",
       "7            Behaviour Digital Inc.  Behaviour Digital Inc.   \n",
       "8                  Digital Extremes        Digital Extremes   \n",
       "9              Gaijin Entertainment    Gaijin Entertainment   \n",
       "\n",
       "                                               genres  \\\n",
       "id                                                      \n",
       "0                                 Action;Free to Play   \n",
       "1                        Action;Free to Play;Strategy   \n",
       "2                                                 NaN   \n",
       "3                                                 NaN   \n",
       "4                                                 NaN   \n",
       "5                                                 NaN   \n",
       "6                                                 NaN   \n",
       "7                                              Action   \n",
       "8                                 Action;Free to Play   \n",
       "9   Action;Free to Play;Massively Multiplayer;Simu...   \n",
       "\n",
       "                          multiplayer_or_singleplayer         price  \\\n",
       "id                                                                    \n",
       "0   Multi-player;Steam Achievements;Full controlle...  Free to play   \n",
       "1   Multi-player;Co-op;Steam Trading Cards;Steam W...  Free to play   \n",
       "2                                                 NaN         2,199   \n",
       "3                                                 NaN         4,999   \n",
       "4                                                 NaN  Free to play   \n",
       "5                                                 NaN  Free to play   \n",
       "6                                                 NaN         1,199   \n",
       "7   Multi-player;Online Multi-Player;Co-op;Online ...           749   \n",
       "8   Single-player;Multi-player;Co-op;Steam Trading...  Free to play   \n",
       "9   Single-player;MMO;Co-op;Cross-Platform Multipl...  Free to play   \n",
       "\n",
       "        dc_price overall_review  detailed_review  reviews percent_positive  \\\n",
       "id                                                                           \n",
       "0   Free to play       Positive    Very Positive  6774812              88%   \n",
       "1   Free to play       Positive    Very Positive  1885261              82%   \n",
       "2          2,199       Positive  Mostly Positive    26092              72%   \n",
       "3          4,999          Mixed            Mixed   215969              64%   \n",
       "4   Free to play       Positive    Very Positive   539297              85%   \n",
       "5   Free to play          Mixed            Mixed  2109992              56%   \n",
       "6          1,199       Positive  Mostly Positive   130245              73%   \n",
       "7            749       Positive    Very Positive   453698              81%   \n",
       "8   Free to play       Positive    Very Positive   512887              87%   \n",
       "9   Free to play       Positive            Mixed    28437              48%   \n",
       "\n",
       "   win_support  mac_support  lin_support  \n",
       "id                                        \n",
       "0            1          1.0          1.0  \n",
       "1            1          1.0          1.0  \n",
       "2            1          0.0          0.0  \n",
       "3            1          0.0          0.0  \n",
       "4            1          0.0          0.0  \n",
       "5            1          0.0          0.0  \n",
       "6            1          0.0          0.0  \n",
       "7            1          0.0          0.0  \n",
       "8            1          0.0          0.0  \n",
       "9            1          1.0          1.0  "
      ]
     },
     "execution_count": 291,
     "metadata": {},
     "output_type": "execute_result"
    }
   ],
   "source": [
    "df = pd.read_csv('games_data.csv', encoding = 'unicode_escape', low_memory=False, index_col='id').drop_duplicates()\n",
    "df.head(10)"
   ]
  },
  {
   "cell_type": "code",
   "execution_count": 292,
   "metadata": {
    "slideshow": {
     "slide_type": "subslide"
    }
   },
   "outputs": [
    {
     "name": "stdout",
     "output_type": "stream",
     "text": [
      "<class 'pandas.core.frame.DataFrame'>\n",
      "Index: 66923 entries, 0 to 73343\n",
      "Data columns (total 15 columns):\n",
      " #   Column                       Non-Null Count  Dtype  \n",
      "---  ------                       --------------  -----  \n",
      " 0   title                        66922 non-null  object \n",
      " 1   release_date                 22774 non-null  object \n",
      " 2   developer                    22774 non-null  object \n",
      " 3   publisher                    22774 non-null  object \n",
      " 4   genres                       22774 non-null  object \n",
      " 5   multiplayer_or_singleplayer  22774 non-null  object \n",
      " 6   price                        66921 non-null  object \n",
      " 7   dc_price                     66921 non-null  object \n",
      " 8   overall_review               36864 non-null  object \n",
      " 9   detailed_review              36857 non-null  object \n",
      " 10  reviews                      36857 non-null  object \n",
      " 11  percent_positive             36857 non-null  object \n",
      " 12  win_support                  66918 non-null  object \n",
      " 13  mac_support                  66921 non-null  float64\n",
      " 14  lin_support                  66920 non-null  float64\n",
      "dtypes: float64(2), object(13)\n",
      "memory usage: 8.2+ MB\n"
     ]
    }
   ],
   "source": [
    "df.info()"
   ]
  },
  {
   "attachments": {},
   "cell_type": "markdown",
   "metadata": {
    "slideshow": {
     "slide_type": "slide"
    }
   },
   "source": [
    "# Get Features"
   ]
  },
  {
   "cell_type": "code",
   "execution_count": 293,
   "metadata": {
    "slideshow": {
     "slide_type": "subslide"
    }
   },
   "outputs": [],
   "source": [
    "cat_col = ['release_date']\n",
    "num_col = ['price', 'dc_price']\n",
    "df_cat = pd.to_datetime(df['release_date'], errors='coerce', format='%Y-%m-%d').dropna().dt.year.astype(int)\n",
    "df = df[num_col].replace('Free to play', '0', regex=True).apply(pd.to_numeric, errors='coerce')\n",
    "df = df.dropna()\n",
    "df = df[df['price'] * 0.95 > df['dc_price']]\n",
    "df['price'].value_counts()\n",
    "zeros = pd.DataFrame(0, index=range(500000), columns=['price', 'dc_price'])\n",
    "df = pd.concat([df, zeros])"
   ]
  },
  {
   "cell_type": "code",
   "execution_count": 294,
   "metadata": {
    "slideshow": {
     "slide_type": "fragment"
    }
   },
   "outputs": [
    {
     "data": {
      "image/png": "[encoded data removed]",
      "text/plain": [
       "<Figure size 432x288 with 1 Axes>"
      ]
     },
     "metadata": {
      "needs_background": "light"
     },
     "output_type": "display_data"
    }
   ],
   "source": [
    "plt.scatter(df['price'], df['dc_price'], label='Steam Games')\n",
    "plt.xlabel('Prices (INR)')\n",
    "plt.ylabel('Discount Prices (INR)')\n",
    "plt.legend()\n",
    "plt.show()"
   ]
  },
  {
   "cell_type": "code",
   "execution_count": 295,
   "metadata": {
    "slideshow": {
     "slide_type": "subslide"
    }
   },
   "outputs": [
    {
     "data": {
      "image/png": "[encoded data removed]",
      "text/plain": [
       "<Figure size 432x288 with 1 Axes>"
      ]
     },
     "metadata": {
      "needs_background": "light"
     },
     "output_type": "display_data"
    }
   ],
   "source": [
    "df_merged = pd.merge(df, df_cat, left_index=True, right_index=True, indicator=True)\n",
    "df_filtered = df_merged[df_merged['_merge'] == 'both'].drop(columns='_merge').reset_index(drop=True)\n",
    "sns.scatterplot(x='price', y='dc_price', hue='release_date', data=df_filtered)\n",
    "plt.show()"
   ]
  },
  {
   "attachments": {},
   "cell_type": "markdown",
   "metadata": {
    "slideshow": {
     "slide_type": "slide"
    }
   },
   "source": [
    "# Create Model"
   ]
  },
  {
   "cell_type": "code",
   "execution_count": 296,
   "metadata": {
    "slideshow": {
     "slide_type": "subslide"
    }
   },
   "outputs": [],
   "source": [
    "X = df[['price']]\n",
    "y = df['dc_price']\n",
    "X_train, X_test, y_train, y_test = train_test_split(X,y,test_size=0.3)\n",
    "pipeline_workflow = create_pipeline(model=LinearRegression(fit_intercept=False))\n",
    "pipeline_workflow.fit(X_train, y_train)\n",
    "set_config(display='diagram')"
   ]
  },
  {
   "cell_type": "code",
   "execution_count": 297,
   "metadata": {
    "slideshow": {
     "slide_type": "fragment"
    }
   },
   "outputs": [
    {
     "data": {
      "text/html": [
       "<style>#sk-4f7a0dab-6fcd-445b-938a-d4043e59cd91 {color: black;background-color: white;}#sk-4f7a0dab-6fcd-445b-938a-d4043e59cd91 pre{padding: 0;}#sk-4f7a0dab-6fcd-445b-938a-d4043e59cd91 div.sk-toggleable {background-color: white;}#sk-4f7a0dab-6fcd-445b-938a-d4043e59cd91 label.sk-toggleable__label {cursor: pointer;display: block;width: 100%;margin-bottom: 0;padding: 0.3em;box-sizing: border-box;text-align: center;}#sk-4f7a0dab-6fcd-445b-938a-d4043e59cd91 label.sk-toggleable__label-arrow:before {content: \"▸\";float: left;margin-right: 0.25em;color: #696969;}#sk-4f7a0dab-6fcd-445b-938a-d4043e59cd91 label.sk-toggleable__label-arrow:hover:before {color: black;}#sk-4f7a0dab-6fcd-445b-938a-d4043e59cd91 div.sk-estimator:hover label.sk-toggleable__label-arrow:before {color: black;}#sk-4f7a0dab-6fcd-445b-938a-d4043e59cd91 div.sk-toggleable__content {max-height: 0;max-width: 0;overflow: hidden;text-align: left;background-color: #f0f8ff;}#sk-4f7a0dab-6fcd-445b-938a-d4043e59cd91 div.sk-toggleable__content pre {margin: 0.2em;color: black;border-radius: 0.25em;background-color: #f0f8ff;}#sk-4f7a0dab-6fcd-445b-938a-d4043e59cd91 input.sk-toggleable__control:checked~div.sk-toggleable__content {max-height: 200px;max-width: 100%;overflow: auto;}#sk-4f7a0dab-6fcd-445b-938a-d4043e59cd91 input.sk-toggleable__control:checked~label.sk-toggleable__label-arrow:before {content: \"▾\";}#sk-4f7a0dab-6fcd-445b-938a-d4043e59cd91 div.sk-estimator input.sk-toggleable__control:checked~label.sk-toggleable__label {background-color: #d4ebff;}#sk-4f7a0dab-6fcd-445b-938a-d4043e59cd91 div.sk-label input.sk-toggleable__control:checked~label.sk-toggleable__label {background-color: #d4ebff;}#sk-4f7a0dab-6fcd-445b-938a-d4043e59cd91 input.sk-hidden--visually {border: 0;clip: rect(1px 1px 1px 1px);clip: rect(1px, 1px, 1px, 1px);height: 1px;margin: -1px;overflow: hidden;padding: 0;position: absolute;width: 1px;}#sk-4f7a0dab-6fcd-445b-938a-d4043e59cd91 div.sk-estimator {font-family: monospace;background-color: #f0f8ff;border: 1px dotted black;border-radius: 0.25em;box-sizing: border-box;margin-bottom: 0.5em;}#sk-4f7a0dab-6fcd-445b-938a-d4043e59cd91 div.sk-estimator:hover {background-color: #d4ebff;}#sk-4f7a0dab-6fcd-445b-938a-d4043e59cd91 div.sk-parallel-item::after {content: \"\";width: 100%;border-bottom: 1px solid gray;flex-grow: 1;}#sk-4f7a0dab-6fcd-445b-938a-d4043e59cd91 div.sk-label:hover label.sk-toggleable__label {background-color: #d4ebff;}#sk-4f7a0dab-6fcd-445b-938a-d4043e59cd91 div.sk-serial::before {content: \"\";position: absolute;border-left: 1px solid gray;box-sizing: border-box;top: 2em;bottom: 0;left: 50%;}#sk-4f7a0dab-6fcd-445b-938a-d4043e59cd91 div.sk-serial {display: flex;flex-direction: column;align-items: center;background-color: white;padding-right: 0.2em;padding-left: 0.2em;}#sk-4f7a0dab-6fcd-445b-938a-d4043e59cd91 div.sk-item {z-index: 1;}#sk-4f7a0dab-6fcd-445b-938a-d4043e59cd91 div.sk-parallel {display: flex;align-items: stretch;justify-content: center;background-color: white;}#sk-4f7a0dab-6fcd-445b-938a-d4043e59cd91 div.sk-parallel::before {content: \"\";position: absolute;border-left: 1px solid gray;box-sizing: border-box;top: 2em;bottom: 0;left: 50%;}#sk-4f7a0dab-6fcd-445b-938a-d4043e59cd91 div.sk-parallel-item {display: flex;flex-direction: column;position: relative;background-color: white;}#sk-4f7a0dab-6fcd-445b-938a-d4043e59cd91 div.sk-parallel-item:first-child::after {align-self: flex-end;width: 50%;}#sk-4f7a0dab-6fcd-445b-938a-d4043e59cd91 div.sk-parallel-item:last-child::after {align-self: flex-start;width: 50%;}#sk-4f7a0dab-6fcd-445b-938a-d4043e59cd91 div.sk-parallel-item:only-child::after {width: 0;}#sk-4f7a0dab-6fcd-445b-938a-d4043e59cd91 div.sk-dashed-wrapped {border: 1px dashed gray;margin: 0 0.4em 0.5em 0.4em;box-sizing: border-box;padding-bottom: 0.4em;background-color: white;position: relative;}#sk-4f7a0dab-6fcd-445b-938a-d4043e59cd91 div.sk-label label {font-family: monospace;font-weight: bold;background-color: white;display: inline-block;line-height: 1.2em;}#sk-4f7a0dab-6fcd-445b-938a-d4043e59cd91 div.sk-label-container {position: relative;z-index: 2;text-align: center;}#sk-4f7a0dab-6fcd-445b-938a-d4043e59cd91 div.sk-container {/* jupyter's `normalize.less` sets `[hidden] { display: none; }` but bootstrap.min.css set `[hidden] { display: none !important; }` so we also need the `!important` here to be able to override the default hidden behavior on the sphinx rendered scikit-learn.org. See: https://github.com/scikit-learn/scikit-learn/issues/21755 */display: inline-block !important;position: relative;}#sk-4f7a0dab-6fcd-445b-938a-d4043e59cd91 div.sk-text-repr-fallback {display: none;}</style><div id=\"sk-4f7a0dab-6fcd-445b-938a-d4043e59cd91\" class=\"sk-top-container\"><div class=\"sk-text-repr-fallback\"><pre>Pipeline(steps=[(&#x27;columntransformer&#x27;,\n",
       "                 ColumnTransformer(transformers=[(&#x27;num_transformer&#x27;,\n",
       "                                                  Pipeline(steps=[(&#x27;imputer&#x27;,\n",
       "                                                                   SimpleImputer(strategy=&#x27;median&#x27;)),\n",
       "                                                                  (&#x27;minmax_scaler&#x27;,\n",
       "                                                                   MinMaxScaler())]),\n",
       "                                                  &lt;sklearn.compose._column_transformer.make_column_selector object at 0x7fea6b1cf8e0&gt;),\n",
       "                                                 (&#x27;cat_transformer&#x27;,\n",
       "                                                  OneHotEncoder(drop=&#x27;first&#x27;,\n",
       "                                                                handle_unknown=&#x27;ignore&#x27;),\n",
       "                                                  &lt;sklearn.compose._column_transformer.make_column_selector object at 0x7fea6b1cfeb0&gt;)])),\n",
       "                (&#x27;linearregression&#x27;, LinearRegression(fit_intercept=False))])</pre><b>Please rerun this cell to show the HTML repr or trust the notebook.</b></div><div class=\"sk-container\" hidden><div class=\"sk-item sk-dashed-wrapped\"><div class=\"sk-label-container\"><div class=\"sk-label sk-toggleable\"><input class=\"sk-toggleable__control sk-hidden--visually\" id=\"1bfa83b1-7d7d-4461-b32a-aa362763f777\" type=\"checkbox\" ><label for=\"1bfa83b1-7d7d-4461-b32a-aa362763f777\" class=\"sk-toggleable__label sk-toggleable__label-arrow\">Pipeline</label><div class=\"sk-toggleable__content\"><pre>Pipeline(steps=[(&#x27;columntransformer&#x27;,\n",
       "                 ColumnTransformer(transformers=[(&#x27;num_transformer&#x27;,\n",
       "                                                  Pipeline(steps=[(&#x27;imputer&#x27;,\n",
       "                                                                   SimpleImputer(strategy=&#x27;median&#x27;)),\n",
       "                                                                  (&#x27;minmax_scaler&#x27;,\n",
       "                                                                   MinMaxScaler())]),\n",
       "                                                  &lt;sklearn.compose._column_transformer.make_column_selector object at 0x7fea6b1cf8e0&gt;),\n",
       "                                                 (&#x27;cat_transformer&#x27;,\n",
       "                                                  OneHotEncoder(drop=&#x27;first&#x27;,\n",
       "                                                                handle_unknown=&#x27;ignore&#x27;),\n",
       "                                                  &lt;sklearn.compose._column_transformer.make_column_selector object at 0x7fea6b1cfeb0&gt;)])),\n",
       "                (&#x27;linearregression&#x27;, LinearRegression(fit_intercept=False))])</pre></div></div></div><div class=\"sk-serial\"><div class=\"sk-item sk-dashed-wrapped\"><div class=\"sk-label-container\"><div class=\"sk-label sk-toggleable\"><input class=\"sk-toggleable__control sk-hidden--visually\" id=\"e52108e8-61f8-4c4d-a5af-f3f3680b4f0b\" type=\"checkbox\" ><label for=\"e52108e8-61f8-4c4d-a5af-f3f3680b4f0b\" class=\"sk-toggleable__label sk-toggleable__label-arrow\">columntransformer: ColumnTransformer</label><div class=\"sk-toggleable__content\"><pre>ColumnTransformer(transformers=[(&#x27;num_transformer&#x27;,\n",
       "                                 Pipeline(steps=[(&#x27;imputer&#x27;,\n",
       "                                                  SimpleImputer(strategy=&#x27;median&#x27;)),\n",
       "                                                 (&#x27;minmax_scaler&#x27;,\n",
       "                                                  MinMaxScaler())]),\n",
       "                                 &lt;sklearn.compose._column_transformer.make_column_selector object at 0x7fea6b1cf8e0&gt;),\n",
       "                                (&#x27;cat_transformer&#x27;,\n",
       "                                 OneHotEncoder(drop=&#x27;first&#x27;,\n",
       "                                               handle_unknown=&#x27;ignore&#x27;),\n",
       "                                 &lt;sklearn.compose._column_transformer.make_column_selector object at 0x7fea6b1cfeb0&gt;)])</pre></div></div></div><div class=\"sk-parallel\"><div class=\"sk-parallel-item\"><div class=\"sk-item\"><div class=\"sk-label-container\"><div class=\"sk-label sk-toggleable\"><input class=\"sk-toggleable__control sk-hidden--visually\" id=\"1db505ad-3297-4895-9735-137e032f1acc\" type=\"checkbox\" ><label for=\"1db505ad-3297-4895-9735-137e032f1acc\" class=\"sk-toggleable__label sk-toggleable__label-arrow\">num_transformer</label><div class=\"sk-toggleable__content\"><pre>&lt;sklearn.compose._column_transformer.make_column_selector object at 0x7fea6b1cf8e0&gt;</pre></div></div></div><div class=\"sk-serial\"><div class=\"sk-item\"><div class=\"sk-serial\"><div class=\"sk-item\"><div class=\"sk-estimator sk-toggleable\"><input class=\"sk-toggleable__control sk-hidden--visually\" id=\"61a61955-ef61-4ade-9515-14b47712ce84\" type=\"checkbox\" ><label for=\"61a61955-ef61-4ade-9515-14b47712ce84\" class=\"sk-toggleable__label sk-toggleable__label-arrow\">SimpleImputer</label><div class=\"sk-toggleable__content\"><pre>SimpleImputer(strategy=&#x27;median&#x27;)</pre></div></div></div><div class=\"sk-item\"><div class=\"sk-estimator sk-toggleable\"><input class=\"sk-toggleable__control sk-hidden--visually\" id=\"539090b8-7577-430e-9843-93956328586c\" type=\"checkbox\" ><label for=\"539090b8-7577-430e-9843-93956328586c\" class=\"sk-toggleable__label sk-toggleable__label-arrow\">MinMaxScaler</label><div class=\"sk-toggleable__content\"><pre>MinMaxScaler()</pre></div></div></div></div></div></div></div></div><div class=\"sk-parallel-item\"><div class=\"sk-item\"><div class=\"sk-label-container\"><div class=\"sk-label sk-toggleable\"><input class=\"sk-toggleable__control sk-hidden--visually\" id=\"267a8c44-2fd9-4d1d-8869-637b6f769e42\" type=\"checkbox\" ><label for=\"267a8c44-2fd9-4d1d-8869-637b6f769e42\" class=\"sk-toggleable__label sk-toggleable__label-arrow\">cat_transformer</label><div class=\"sk-toggleable__content\"><pre>&lt;sklearn.compose._column_transformer.make_column_selector object at 0x7fea6b1cfeb0&gt;</pre></div></div></div><div class=\"sk-serial\"><div class=\"sk-item\"><div class=\"sk-estimator sk-toggleable\"><input class=\"sk-toggleable__control sk-hidden--visually\" id=\"aa0e5221-c86f-4bcf-8d2d-c491df5518c5\" type=\"checkbox\" ><label for=\"aa0e5221-c86f-4bcf-8d2d-c491df5518c5\" class=\"sk-toggleable__label sk-toggleable__label-arrow\">OneHotEncoder</label><div class=\"sk-toggleable__content\"><pre>OneHotEncoder(drop=&#x27;first&#x27;, handle_unknown=&#x27;ignore&#x27;)</pre></div></div></div></div></div></div></div></div><div class=\"sk-item\"><div class=\"sk-estimator sk-toggleable\"><input class=\"sk-toggleable__control sk-hidden--visually\" id=\"74491cf5-f3c7-490b-8c12-6af0cf0f0530\" type=\"checkbox\" ><label for=\"74491cf5-f3c7-490b-8c12-6af0cf0f0530\" class=\"sk-toggleable__label sk-toggleable__label-arrow\">LinearRegression</label><div class=\"sk-toggleable__content\"><pre>LinearRegression(fit_intercept=False)</pre></div></div></div></div></div></div></div>"
      ],
      "text/plain": [
       "Pipeline(steps=[('columntransformer',\n",
       "                 ColumnTransformer(transformers=[('num_transformer',\n",
       "                                                  Pipeline(steps=[('imputer',\n",
       "                                                                   SimpleImputer(strategy='median')),\n",
       "                                                                  ('minmax_scaler',\n",
       "                                                                   MinMaxScaler())]),\n",
       "                                                  <sklearn.compose._column_transformer.make_column_selector object at 0x7fea6b1cf8e0>),\n",
       "                                                 ('cat_transformer',\n",
       "                                                  OneHotEncoder(drop='first',\n",
       "                                                                handle_unknown='ignore'),\n",
       "                                                  <sklearn.compose._column_transformer.make_column_selector object at 0x7fea6b1cfeb0>)])),\n",
       "                ('linearregression', LinearRegression(fit_intercept=False))])"
      ]
     },
     "execution_count": 297,
     "metadata": {},
     "output_type": "execute_result"
    }
   ],
   "source": [
    "pipeline_workflow"
   ]
  },
  {
   "cell_type": "code",
   "execution_count": 298,
   "metadata": {
    "slideshow": {
     "slide_type": "subslide"
    }
   },
   "outputs": [
    {
     "name": "stdout",
     "output_type": "stream",
     "text": [
      "score de prédiction: 0.6762143946793293\n",
      "cross val score: 0.6770559648175664\n"
     ]
    }
   ],
   "source": [
    "print(f\"score de prédiction: {pipeline_workflow.score(X_test, y_test)}\")\n",
    "print(f\"cross val score: {cross_val_score(pipeline_workflow, X_train, y_train, cv=6, scoring='r2').mean()}\")"
   ]
  },
  {
   "attachments": {},
   "cell_type": "markdown",
   "metadata": {
    "slideshow": {
     "slide_type": "slide"
    }
   },
   "source": [
    "# Graphic"
   ]
  },
  {
   "cell_type": "code",
   "execution_count": 299,
   "metadata": {
    "slideshow": {
     "slide_type": "subslide"
    }
   },
   "outputs": [
    {
     "data": {
      "image/png": "[encoded data removed]",
      "text/plain": [
       "<Figure size 432x288 with 1 Axes>"
      ]
     },
     "metadata": {
      "needs_background": "light"
     },
     "output_type": "display_data"
    }
   ],
   "source": [
    "import statsmodels.api as sm\n",
    "\n",
    "X_train = sm.add_constant(X_train)  # Add a column of 1s to X\n",
    "model = sm.OLS(y_train, X_train).fit()\n",
    "\n",
    "# Get the a and b parameters\n",
    "a = model.params[1]\n",
    "b = model.params[0]\n",
    "\n",
    "lin,_ = plt.plot(X_train, a * X_train + b, c='r', label='Linear Model')\n",
    "scat = plt.scatter(df['price'], df['dc_price'], label='Steam Games')\n",
    "plt.xlabel('Prices (INR)')\n",
    "plt.ylabel('Discount Prices (INR)')\n",
    "plt.legend(handles=[lin, scat])\n",
    "plt.show()"
   ]
  },
  {
   "attachments": {},
   "cell_type": "markdown",
   "metadata": {
    "slideshow": {
     "slide_type": "slide"
    }
   },
   "source": [
    "# Pickle the model"
   ]
  },
  {
   "cell_type": "code",
   "execution_count": 300,
   "metadata": {
    "slideshow": {
     "slide_type": "fragment"
    }
   },
   "outputs": [],
   "source": [
    "import pickle\n",
    "pickle.dump(pipeline_workflow, open('pipeline.pkl', 'wb'))"
   ]
  },
  {
   "cell_type": "code",
   "execution_count": 301,
   "metadata": {
    "slideshow": {
     "slide_type": "fragment"
    }
   },
   "outputs": [
    {
     "data": {
      "text/plain": [
       "0.6762143946793293"
      ]
     },
     "execution_count": 301,
     "metadata": {},
     "output_type": "execute_result"
    }
   ],
   "source": [
    "pickled_model = pickle.load(open('pipeline.pkl', 'rb'))\n",
    "pickled_model.score(X_test, y_test)"
   ]
  },
  {
   "attachments": {},
   "cell_type": "markdown",
   "metadata": {
    "slideshow": {
     "slide_type": "slide"
    }
   },
   "source": [
    "# API"
   ]
  },
  {
   "cell_type": "code",
   "execution_count": 302,
   "metadata": {
    "slideshow": {
     "slide_type": "fragment"
    }
   },
   "outputs": [
    {
     "name": "stdout",
     "output_type": "stream",
     "text": [
      "\u001b[32mINFO\u001b[0m:     Will watch for changes in these directories: ['/root/Simplon_Projects/BriefProject']\n",
      "\u001b[32mINFO\u001b[0m:     Uvicorn running on \u001b[1mhttp://127.0.0.1:8000\u001b[0m (Press CTRL+C to quit)\n",
      "\u001b[32mINFO\u001b[0m:     Started reloader process [\u001b[36m\u001b[1m3731\u001b[0m] using \u001b[36m\u001b[1mwatchgod\u001b[0m\n",
      "\u001b[32mINFO\u001b[0m:     Started server process [\u001b[36m3733\u001b[0m]\n",
      "\u001b[32mINFO\u001b[0m:     Waiting for application startup.\n",
      "\u001b[32mINFO\u001b[0m:     Application startup complete.\n",
      "^C\n",
      "\u001b[32mINFO\u001b[0m:     Shutting down\n",
      "\u001b[32mINFO\u001b[0m:     Waiting for application shutdown.\n",
      "\u001b[32mINFO\u001b[0m:     Application shutdown complete.\n",
      "\u001b[32mINFO\u001b[0m:     Finished server process [\u001b[36m3733\u001b[0m]\n"
     ]
    }
   ],
   "source": [
    "!uvicorn Linreg:app --reload"
   ]
  }
 ],
 "metadata": {
  "kernelspec": {
   "display_name": "Python 3.8.12 64-bit ('simplon')",
   "language": "python",
   "name": "python3"
  },
  "language_info": {
   "codemirror_mode": {
    "name": "ipython",
    "version": 3
   },
   "file_extension": ".py",
   "mimetype": "text/x-python",
   "name": "python",
   "nbconvert_exporter": "python",
   "pygments_lexer": "ipython3",
   "version": "3.8.12"
  },
  "orig_nbformat": 4,
  "vscode": {
   "interpreter": {
    "hash": "503123401f496096e0f028585efad06d42166f80d999c13f687c901dac905c09"
   }
  }
 },
 "nbformat": 4,
 "nbformat_minor": 2
}
